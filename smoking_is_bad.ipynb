{
 "cells": [
  {
   "cell_type": "markdown",
   "metadata": {},
   "source": [
    "# Smoking is bad"
   ]
  },
  {
   "cell_type": "code",
   "execution_count": null,
   "metadata": {},
   "outputs": [],
   "source": [
    "# TODO: install all the necessary packages\n",
    "import pandas as pd\n",
    "import numpy as np\n",
    "import matplotlib.pyplot as plt\n",
    "from pathlib import Path"
   ]
  },
  {
   "cell_type": "code",
   "execution_count": null,
   "metadata": {},
   "outputs": [],
   "source": [
    "# TODO : load the data using the pathlib library to create the path to your data\n",
    "current_dir = Path().resolve()\n",
    "path = Path(current_dir) / \"data\" / \"smoking_data.csv\"\n",
    "print(path)"
   ]
  },
  {
   "cell_type": "code",
   "execution_count": null,
   "metadata": {},
   "outputs": [],
   "source": [
    "# TODO: what are the dimensions of the data frame?\n",
    "df = pd.read_csv(path)\n",
    "print(df.shape)\n",
    "print(df.head(10))\n",
    "#There are 6 columns and 1314 rows in our dataframe"
   ]
  },
  {
   "cell_type": "code",
   "execution_count": null,
   "metadata": {},
   "outputs": [],
   "source": [
    "# TODO: use .describe() on your data frame: what do you notice about the string columns?\n",
    "print(df.describe())\n",
    "#string columns are not being described"
   ]
  },
  {
   "cell_type": "code",
   "execution_count": null,
   "metadata": {},
   "outputs": [],
   "source": [
    "# TODO: do not forget to check the null values\n",
    "print(df.isnull().sum())\n",
    "#lots of salaries are missing\n"
   ]
  },
  {
   "cell_type": "code",
   "execution_count": null,
   "metadata": {},
   "outputs": [],
   "source": [
    "# TODO: prepare your data frame so that you can work with\n",
    "df['outcome'] = df['outcome'].replace({\"Alive\": 1, \"Dead\": 0})\n",
    "df['smoker'] = df['smoker'].replace({\"Yes\": 1, \"No\": 0})"
   ]
  },
  {
   "cell_type": "markdown",
   "metadata": {},
   "source": [
    "## Smoking analysis\n",
    "Let's first check what your cousin did."
   ]
  },
  {
   "cell_type": "code",
   "execution_count": null,
   "metadata": {},
   "outputs": [],
   "source": [
    "# TODO: Reimplement the small code snippet described in the problem set instructions.\n",
    "df.groupby([\"smoker\"]).agg(prob=(\"outcome\", np.mean))\n",
    "#\"it is more likely to be alive when you are a smoker\"\n",
    "#most likely some other variables are influencing the result\n",
    "#quick idea would be checking the average age of smokers and average age of non smokers as people who do not smoke might be overall older"
   ]
  },
  {
   "cell_type": "markdown",
   "metadata": {},
   "source": [
    "You should get the same results."
   ]
  },
  {
   "cell_type": "markdown",
   "metadata": {},
   "source": [
    "# Is smoking really good?\n",
    "Now it is up to you to run the analysis further and check what could be underlying your cousings results."
   ]
  },
  {
   "cell_type": "code",
   "execution_count": null,
   "metadata": {},
   "outputs": [],
   "source": [
    "#lets test hypothesis age is lower for smokers than non smokers in this dataset driving probability of being alive\n",
    "\n",
    "#share dead/alive overview\n",
    "alive_counts = df[\"outcome\"].value_counts()\n",
    "alive_counts.index = ['Alive', 'Dead']\n",
    "print(alive_counts)\n",
    "\n",
    "\n",
    "alive_counts.plot(kind=\"bar\")\n",
    "plt.ylabel('Totals')\n",
    "plt.title('Overview of dead and alive people in the dataset')\n",
    "plt.xticks(rotation=0)\n",
    "plt.show()"
   ]
  },
  {
   "cell_type": "code",
   "execution_count": null,
   "metadata": {},
   "outputs": [],
   "source": [
    "df.groupby([\"smoker\"]).agg(age=(\"age\", np.mean))\n",
    "#higher age for non smokers indeed"
   ]
  },
  {
   "cell_type": "code",
   "execution_count": null,
   "metadata": {},
   "outputs": [],
   "source": [
    "#getting information on smoker age distribution\n",
    "smoker_counts = df.groupby([\"smoker\"]).agg(age=(\"age\", np.mean))\n",
    "print(smoker_counts)\n",
    "\n",
    "#binning smokers data for better visualization\n",
    "smokers_data = df[df[\"smoker\"] == 1]\n",
    "bins = [15, 20, 25, 30, 35, 40, 45, 50, 55, 60, 65, 70, 75, 80, 85, 90]\n",
    "labels = ['15-19', '20-24', '25-29', '30-34', '35-39', '40-44', '45-49', '50-54', '55-59', '60-64', '65-69', '70-74', '75-79', '80-84', '85-89']\n",
    "smokers_data['age_group'] = pd.cut(smokers_data['age'], bins=bins, labels=labels, right=False)\n",
    "smoker_age_counts = smokers_data[\"age_group\"].value_counts().sort_index()\n",
    "\n",
    "\n",
    "print(smoker_age_counts)"
   ]
  },
  {
   "cell_type": "code",
   "execution_count": null,
   "metadata": {},
   "outputs": [],
   "source": [
    "#plotting smoker age distribution\n",
    "age_counts.plot(kind=\"bar\", width = 0.9)\n",
    "plt.ylabel('Totals')\n",
    "plt.xlabel('Age')\n",
    "plt.title('Overview of smokers age distribution')\n",
    "plt.xticks(rotation=90)\n",
    "plt.show()"
   ]
  },
  {
   "cell_type": "code",
   "execution_count": null,
   "metadata": {},
   "outputs": [],
   "source": [
    "#getting information on nonsmoker age distribution\n",
    "nonsmokers_data = df[df[\"smoker\"] == 0]\n",
    "\n",
    "bins = [15, 20, 25, 30, 35, 40, 45, 50, 55, 60, 65, 70, 75, 80, 85, 90]\n",
    "labels = ['15-19', '20-24', '25-29', '30-34', '35-39', '40-44', '45-49', '50-54', '55-59', '60-64', '65-69', '70-74', '75-79', '80-84', '85-89']\n",
    "nonsmokers_data['age_group'] = pd.cut(nonsmokers_data['age'], bins=bins, labels=labels, right=False)\n",
    "nonsmoker_age_counts = nonsmokers_data[\"age_group\"].value_counts().sort_index()\n",
    "\n",
    "\n",
    "print(nonsmoker_age_counts)"
   ]
  },
  {
   "cell_type": "code",
   "execution_count": null,
   "metadata": {},
   "outputs": [],
   "source": [
    "#plotting smoker age distribution\n",
    "age_counts.plot(kind=\"bar\", width = 0.9)\n",
    "plt.ylabel('Totals')\n",
    "plt.xlabel('Age')\n",
    "plt.title('Overview of non-smokers age distribution')\n",
    "plt.xticks(rotation=90)\n",
    "plt.show()"
   ]
  },
  {
   "cell_type": "code",
   "execution_count": null,
   "metadata": {},
   "outputs": [],
   "source": [
    "#creating graph with two subplots for age \n",
    "fig, (ax1, ax2) = plt.subplots(2, 1)\n",
    "\n",
    "smoker_age_counts.plot(kind=\"bar\", ax=ax1)\n",
    "ax1.set_xlabel(\"Age\")\n",
    "ax1.set_ylabel(\"Count\")\n",
    "ax1.set_title(\"Age Distribution of Smokers\")\n",
    "ax1.set_ylim(0, 90)\n",
    "\n",
    "nonsmoker_age_counts.plot(kind=\"bar\", ax=ax2)\n",
    "ax2.set_xlabel(\"Age\")\n",
    "ax2.set_ylabel(\"Count\")\n",
    "ax2.set_title(\"Age Distribution of Non-smokers\")\n",
    "ax2.set_ylim(0, 90)\n",
    "\n",
    "plt.tight_layout()\n",
    "plt.show()\n",
    "#non-smokers representation in the dataset is heavier on the right tail "
   ]
  },
  {
   "cell_type": "code",
   "execution_count": null,
   "metadata": {},
   "outputs": [],
   "source": [
    "#test the hypothesis that higher age is correlated with a higher share of dead people\n",
    "dead_counts = df.groupby([\"outcome\"]).agg(age=(\"age\", np.mean))\n",
    "print(dead_counts)\n",
    "\n",
    "dead_data = df[df[\"outcome\"] == 0]\n",
    "bins = [15, 20, 25, 30, 35, 40, 45, 50, 55, 60, 65, 70, 75, 80, 85, 90]\n",
    "labels = ['15-19', '20-24', '25-29', '30-34', '35-39', '40-44', '45-49', '50-54', '55-59', '60-64', '65-69', '70-74', '75-79', '80-84', '85-89']\n",
    "dead_data['age_group'] = pd.cut(dead_data['age'], bins=bins, labels=labels, right=False)\n",
    "dead_age_counts = dead_data[\"age_group\"].value_counts().sort_index()\n",
    "\n",
    "\n",
    "print(dead_age_counts)\n"
   ]
  },
  {
   "cell_type": "code",
   "execution_count": null,
   "metadata": {},
   "outputs": [],
   "source": [
    "#getting information on nonsmoker age distribution\n",
    "alive_data = df[df[\"outcome\"] == 1]\n",
    "bins = [15, 20, 25, 30, 35, 40, 45, 50, 55, 60, 65, 70, 75, 80, 85, 90]\n",
    "labels = ['15-19', '20-24', '25-29', '30-34', '35-39', '40-44', '45-49', '50-54', '55-59', '60-64', '65-69', '70-74', '75-79', '80-84', '85-89']\n",
    "alive_data['age_group'] = pd.cut(alive_data['age'], bins=bins, labels=labels, right=False)\n",
    "alive_age_counts = alive_data[\"age_group\"].value_counts().sort_index()\n",
    "\n",
    "\n",
    "print(alive_age_counts)"
   ]
  },
  {
   "cell_type": "code",
   "execution_count": null,
   "metadata": {},
   "outputs": [],
   "source": [
    "#creating graph with two subplots for age \n",
    "fig, (ax1, ax2) = plt.subplots(2, 1)\n",
    "\n",
    "alive_age_counts.plot(kind=\"bar\", ax=ax1)\n",
    "ax1.set_xlabel(\"Age\")\n",
    "ax1.set_ylabel(\"Count\")\n",
    "ax1.set_title(\"Age Distribution of Alive People\")\n",
    "ax1.set_ylim(0, 150)\n",
    "\n",
    "dead_age_counts.plot(kind=\"bar\", ax=ax2)\n",
    "ax2.set_xlabel(\"Age\")\n",
    "ax2.set_ylabel(\"Count\")\n",
    "ax2.set_title(\"Age Distribution of Dead People\")\n",
    "ax2.set_ylim(0, 150)\n",
    "\n",
    "plt.tight_layout()\n",
    "plt.show()\n",
    "#distribution of dead people is heavy in the 55+ cohort\n",
    "#nonsmoker distribution by age has a heavy \"tail\" in the 55+ cohort\n",
    "#probability of being dead might then be driven rather by underlying age characteristic of population rather than their smoking behaviour\n",
    "#causality would have to be proven using regressions and theories"
   ]
  }
 ],
 "metadata": {
  "kernelspec": {
   "display_name": "smoke",
   "language": "python",
   "name": "python3"
  },
  "language_info": {
   "codemirror_mode": {
    "name": "ipython",
    "version": 3
   },
   "file_extension": ".py",
   "mimetype": "text/x-python",
   "name": "python",
   "nbconvert_exporter": "python",
   "pygments_lexer": "ipython3",
   "version": "3.10.15"
  }
 },
 "nbformat": 4,
 "nbformat_minor": 2
}
